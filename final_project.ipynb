{
 "cells": [
  {
   "cell_type": "markdown",
   "id": "336ecaae",
   "metadata": {},
   "source": [
    "# Final Project\n",
    "\n",
    "## Part 1: Data Collection \n",
    "\n",
    "The early youth of a child is a developmental time where students are learning how to perform many tasks and learn skills, both book smart and street smart, that can help them in life. One of those skills that begins to develop in a young age is literacy in basic math and reading, as the majority of math that one deals with in adulthood is taught in middle school (get reference), and reading comprehension is key to understanding the majority of events that happen in an adults life - understanding forms, learning new information, searching for housing, etc. Therefore, it is important that all children in this developmental stage have equitable opportunities deserving of them that in such a key growth period, they all have the tools and education necessary to learn such important and long lasting skills such as math and reading comprehension.\n",
    "\n",
    "However, not all students are given such equally fitted opportunities. The US education system has long been known to have varying standards of education (GET REFERENCE), where differences in education quality begin as early as pre-kindergarten, but not a lot of documentation has been procured to confirm on any large variation in education quality. It is imperative that if these differences in education quality exist, then they be resolved on an institutional level. \n",
    "\n",
    "So, our focus of project is to confirm if education inequality is reflected by national math and reading examination differences and recognize factors such as race or gender or state that may play significant roles in such (if they exist), and use such analysis to predict how future years education inequality will be if the current education system/institution is maintained. \n",
    "\n",
    "Our null hypothesis will be that race, gender, and state do not have any relationship or impact on math or reading literacy in children in developmental stages. Our alternative hypothesis will be that race, gender, and state have some relationship or impact on math or reading literacy in children in developmental stages."
   ]
  },
  {
   "cell_type": "markdown",
   "id": "f997e9ba",
   "metadata": {},
   "source": [
    "## Part 2: Data Management/Representation\n",
    "\n",
    "First we have to import the necessary libraries that we need to load the dataset. We are using pandas, numpy, and matplotlib.pyplot. Pandas is used for the DataFrame object since that is an easy way to store tabular data. Numpy is used for its math functionality and mathplotlib.pyplot is used to plot graphs demonstrating relationships between variables in our data."
   ]
  },
  {
   "cell_type": "markdown",
   "id": "4a282042",
   "metadata": {},
   "source": [
    "Since the data is in a csv file in the directory, we need to load it into a pandas DataFrame so that we can easily manipulate it."
   ]
  },
  {
   "cell_type": "markdown",
   "id": "039f33c9",
   "metadata": {},
   "source": [
    "Now we have to clean the data. I am first going to drop columns that we do not need (ex: EventId, StartTime, etc). Then we rearranged and renamed the columns so that it was easier to read the dataset."
   ]
  },
  {
   "cell_type": "markdown",
   "id": "dbae29bb",
   "metadata": {},
   "source": [
    "Now to deal with any missing variables, we are dropping any rows that have NaN or \"\" values since those rows cannot be used to make our prediction and so it would be easier for us to just not have them. We also have enough data to supplement the values that are going to be lost by dropping rows with missing values."
   ]
  },
  {
   "cell_type": "markdown",
   "id": "382aca44",
   "metadata": {},
   "source": [
    "## Exploratory Data Analysis"
   ]
  },
  {
   "cell_type": "markdown",
   "id": "b9cbaab3",
   "metadata": {},
   "source": [
    "## Hypothesis testing"
   ]
  },
  {
   "cell_type": "markdown",
   "id": "f4bd2bfa",
   "metadata": {},
   "source": [
    "## Communication of Insights Attained"
   ]
  }
 ],
 "metadata": {
  "kernelspec": {
   "display_name": "Python 3",
   "language": "python",
   "name": "python3"
  },
  "language_info": {
   "codemirror_mode": {
    "name": "ipython",
    "version": 3
   },
   "file_extension": ".py",
   "mimetype": "text/x-python",
   "name": "python",
   "nbconvert_exporter": "python",
   "pygments_lexer": "ipython3",
   "version": "3.8.5"
  }
 },
 "nbformat": 4,
 "nbformat_minor": 5
}
