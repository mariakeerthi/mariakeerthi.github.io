{
 "cells": [
  {
   "cell_type": "markdown",
   "id": "88835df0",
   "metadata": {},
   "source": [
    "# Final Project\n",
    "\n",
    "## Part 1: Data Collection \n",
    "\n",
    "The early youth of a child is a developmental time where students are learning how to perform many tasks and learn skills, both book smart and street smart, that can help them in life. One of those skills that begins to develop in a young age is literacy in basic math and reading, as the majority of math that one deals with in adulthood is taught in middle school (get reference), and reading comprehension is key to understanding the majority of events that happen in an adults life - understanding forms, learning new information, searching for housing, etc. Therefore, it is important that all children in this developmental stage have equitable opportunities deserving of them that in such a key growth period, they all have the tools and education necessary to learn such important and long lasting skills such as math and reading comprehension.\n",
    "\n",
    "However, not all students are given such equally fitted opportunities. The US education system has long been known to have varying standards of education (GET REFERENCE), where differences in education quality begin as early as pre-kindergarten, but not a lot of documentation has been procured to confirm on any large variation in education quality. It is imperative that if these differences in education quality exist, then they be resolved on an institutional level. \n",
    "\n",
    "So, our focus of project is to confirm if education inequality is reflected by national math and reading examination differences and recognize factors such as race or gender or state that may play significant roles in such (if they exist), and use such analysis to predict how future years education inequality will be if the current education system/institution is maintained. \n",
    "\n",
    "Our null hypothesis will be that race, gender, and state do not have any relationship or impact on math or reading literacy in children in developmental stages. Our alternative hypothesis will be that race, gender, and state have some relationship or impact on math or reading literacy in children in developmental stages."
   ]
  },
  {
   "cell_type": "markdown",
   "id": "8ffc7368",
   "metadata": {},
   "source": [
    "## Part 2: Data Management/Representation\n",
    "\n",
    "First we have to import the necessary libraries that we need to load the dataset. We are using pandas, numpy, and matplotlib.pyplot. Pandas is used for the DataFrame object since that is an easy way to store tabular data. Numpy is used for its math functionality and mathplotlib.pyplot is used to plot graphs demonstrating relationships between variables in our data."
   ]
  },
  {
   "cell_type": "code",
   "execution_count": 1,
   "id": "c59516b8",
   "metadata": {},
   "outputs": [],
   "source": [
    "import pandas as pd\n",
    "import numpy as np\n",
    "import matplotlib.pyplot as plt"
   ]
  },
  {
   "cell_type": "markdown",
   "id": "c1d0135c",
   "metadata": {},
   "source": [
    "Now we have to load the data. The data is stored in the \"states_all_extended.csv\" file and so we have to load it into a DataFrame. This can be done using pandas \"read_csv\" method. We will store this data in a variable called \"school_data\"."
   ]
  },
  {
   "cell_type": "code",
   "execution_count": 2,
   "id": "1e2bfac8",
   "metadata": {},
   "outputs": [
    {
     "data": {
      "text/html": [
       "<div>\n",
       "<style scoped>\n",
       "    .dataframe tbody tr th:only-of-type {\n",
       "        vertical-align: middle;\n",
       "    }\n",
       "\n",
       "    .dataframe tbody tr th {\n",
       "        vertical-align: top;\n",
       "    }\n",
       "\n",
       "    .dataframe thead th {\n",
       "        text-align: right;\n",
       "    }\n",
       "</style>\n",
       "<table border=\"1\" class=\"dataframe\">\n",
       "  <thead>\n",
       "    <tr style=\"text-align: right;\">\n",
       "      <th></th>\n",
       "      <th>PRIMARY_KEY</th>\n",
       "      <th>STATE</th>\n",
       "      <th>YEAR</th>\n",
       "      <th>ENROLL</th>\n",
       "      <th>TOTAL_REVENUE</th>\n",
       "      <th>FEDERAL_REVENUE</th>\n",
       "      <th>STATE_REVENUE</th>\n",
       "      <th>LOCAL_REVENUE</th>\n",
       "      <th>TOTAL_EXPENDITURE</th>\n",
       "      <th>INSTRUCTION_EXPENDITURE</th>\n",
       "      <th>...</th>\n",
       "      <th>G08_HI_A_READING</th>\n",
       "      <th>G08_HI_A_MATHEMATICS</th>\n",
       "      <th>G08_AS_A_READING</th>\n",
       "      <th>G08_AS_A_MATHEMATICS</th>\n",
       "      <th>G08_AM_A_READING</th>\n",
       "      <th>G08_AM_A_MATHEMATICS</th>\n",
       "      <th>G08_HP_A_READING</th>\n",
       "      <th>G08_HP_A_MATHEMATICS</th>\n",
       "      <th>G08_TR_A_READING</th>\n",
       "      <th>G08_TR_A_MATHEMATICS</th>\n",
       "    </tr>\n",
       "  </thead>\n",
       "  <tbody>\n",
       "    <tr>\n",
       "      <th>0</th>\n",
       "      <td>1992_ALABAMA</td>\n",
       "      <td>ALABAMA</td>\n",
       "      <td>1992</td>\n",
       "      <td>NaN</td>\n",
       "      <td>2678885.0</td>\n",
       "      <td>304177.0</td>\n",
       "      <td>1659028.0</td>\n",
       "      <td>715680.0</td>\n",
       "      <td>2653798.0</td>\n",
       "      <td>1481703.0</td>\n",
       "      <td>...</td>\n",
       "      <td>NaN</td>\n",
       "      <td>NaN</td>\n",
       "      <td>NaN</td>\n",
       "      <td>NaN</td>\n",
       "      <td>NaN</td>\n",
       "      <td>NaN</td>\n",
       "      <td>NaN</td>\n",
       "      <td>NaN</td>\n",
       "      <td>NaN</td>\n",
       "      <td>NaN</td>\n",
       "    </tr>\n",
       "    <tr>\n",
       "      <th>1</th>\n",
       "      <td>1992_ALASKA</td>\n",
       "      <td>ALASKA</td>\n",
       "      <td>1992</td>\n",
       "      <td>NaN</td>\n",
       "      <td>1049591.0</td>\n",
       "      <td>106780.0</td>\n",
       "      <td>720711.0</td>\n",
       "      <td>222100.0</td>\n",
       "      <td>972488.0</td>\n",
       "      <td>498362.0</td>\n",
       "      <td>...</td>\n",
       "      <td>NaN</td>\n",
       "      <td>NaN</td>\n",
       "      <td>NaN</td>\n",
       "      <td>NaN</td>\n",
       "      <td>NaN</td>\n",
       "      <td>NaN</td>\n",
       "      <td>NaN</td>\n",
       "      <td>NaN</td>\n",
       "      <td>NaN</td>\n",
       "      <td>NaN</td>\n",
       "    </tr>\n",
       "    <tr>\n",
       "      <th>2</th>\n",
       "      <td>1992_ARIZONA</td>\n",
       "      <td>ARIZONA</td>\n",
       "      <td>1992</td>\n",
       "      <td>NaN</td>\n",
       "      <td>3258079.0</td>\n",
       "      <td>297888.0</td>\n",
       "      <td>1369815.0</td>\n",
       "      <td>1590376.0</td>\n",
       "      <td>3401580.0</td>\n",
       "      <td>1435908.0</td>\n",
       "      <td>...</td>\n",
       "      <td>NaN</td>\n",
       "      <td>NaN</td>\n",
       "      <td>NaN</td>\n",
       "      <td>NaN</td>\n",
       "      <td>NaN</td>\n",
       "      <td>NaN</td>\n",
       "      <td>NaN</td>\n",
       "      <td>NaN</td>\n",
       "      <td>NaN</td>\n",
       "      <td>NaN</td>\n",
       "    </tr>\n",
       "    <tr>\n",
       "      <th>3</th>\n",
       "      <td>1992_ARKANSAS</td>\n",
       "      <td>ARKANSAS</td>\n",
       "      <td>1992</td>\n",
       "      <td>NaN</td>\n",
       "      <td>1711959.0</td>\n",
       "      <td>178571.0</td>\n",
       "      <td>958785.0</td>\n",
       "      <td>574603.0</td>\n",
       "      <td>1743022.0</td>\n",
       "      <td>964323.0</td>\n",
       "      <td>...</td>\n",
       "      <td>NaN</td>\n",
       "      <td>NaN</td>\n",
       "      <td>NaN</td>\n",
       "      <td>NaN</td>\n",
       "      <td>NaN</td>\n",
       "      <td>NaN</td>\n",
       "      <td>NaN</td>\n",
       "      <td>NaN</td>\n",
       "      <td>NaN</td>\n",
       "      <td>NaN</td>\n",
       "    </tr>\n",
       "    <tr>\n",
       "      <th>4</th>\n",
       "      <td>1992_CALIFORNIA</td>\n",
       "      <td>CALIFORNIA</td>\n",
       "      <td>1992</td>\n",
       "      <td>NaN</td>\n",
       "      <td>26260025.0</td>\n",
       "      <td>2072470.0</td>\n",
       "      <td>16546514.0</td>\n",
       "      <td>7641041.0</td>\n",
       "      <td>27138832.0</td>\n",
       "      <td>14358922.0</td>\n",
       "      <td>...</td>\n",
       "      <td>NaN</td>\n",
       "      <td>NaN</td>\n",
       "      <td>NaN</td>\n",
       "      <td>NaN</td>\n",
       "      <td>NaN</td>\n",
       "      <td>NaN</td>\n",
       "      <td>NaN</td>\n",
       "      <td>NaN</td>\n",
       "      <td>NaN</td>\n",
       "      <td>NaN</td>\n",
       "    </tr>\n",
       "  </tbody>\n",
       "</table>\n",
       "<p>5 rows × 266 columns</p>\n",
       "</div>"
      ],
      "text/plain": [
       "       PRIMARY_KEY       STATE  YEAR  ENROLL  TOTAL_REVENUE  FEDERAL_REVENUE  \\\n",
       "0     1992_ALABAMA     ALABAMA  1992     NaN      2678885.0         304177.0   \n",
       "1      1992_ALASKA      ALASKA  1992     NaN      1049591.0         106780.0   \n",
       "2     1992_ARIZONA     ARIZONA  1992     NaN      3258079.0         297888.0   \n",
       "3    1992_ARKANSAS    ARKANSAS  1992     NaN      1711959.0         178571.0   \n",
       "4  1992_CALIFORNIA  CALIFORNIA  1992     NaN     26260025.0        2072470.0   \n",
       "\n",
       "   STATE_REVENUE  LOCAL_REVENUE  TOTAL_EXPENDITURE  INSTRUCTION_EXPENDITURE  \\\n",
       "0      1659028.0       715680.0          2653798.0                1481703.0   \n",
       "1       720711.0       222100.0           972488.0                 498362.0   \n",
       "2      1369815.0      1590376.0          3401580.0                1435908.0   \n",
       "3       958785.0       574603.0          1743022.0                 964323.0   \n",
       "4     16546514.0      7641041.0         27138832.0               14358922.0   \n",
       "\n",
       "   ...  G08_HI_A_READING  G08_HI_A_MATHEMATICS  G08_AS_A_READING  \\\n",
       "0  ...               NaN                   NaN               NaN   \n",
       "1  ...               NaN                   NaN               NaN   \n",
       "2  ...               NaN                   NaN               NaN   \n",
       "3  ...               NaN                   NaN               NaN   \n",
       "4  ...               NaN                   NaN               NaN   \n",
       "\n",
       "   G08_AS_A_MATHEMATICS  G08_AM_A_READING  G08_AM_A_MATHEMATICS  \\\n",
       "0                   NaN               NaN                   NaN   \n",
       "1                   NaN               NaN                   NaN   \n",
       "2                   NaN               NaN                   NaN   \n",
       "3                   NaN               NaN                   NaN   \n",
       "4                   NaN               NaN                   NaN   \n",
       "\n",
       "   G08_HP_A_READING  G08_HP_A_MATHEMATICS  G08_TR_A_READING  \\\n",
       "0               NaN                   NaN               NaN   \n",
       "1               NaN                   NaN               NaN   \n",
       "2               NaN                   NaN               NaN   \n",
       "3               NaN                   NaN               NaN   \n",
       "4               NaN                   NaN               NaN   \n",
       "\n",
       "   G08_TR_A_MATHEMATICS  \n",
       "0                   NaN  \n",
       "1                   NaN  \n",
       "2                   NaN  \n",
       "3                   NaN  \n",
       "4                   NaN  \n",
       "\n",
       "[5 rows x 266 columns]"
      ]
     },
     "execution_count": 2,
     "metadata": {},
     "output_type": "execute_result"
    }
   ],
   "source": [
    "school_data = pd.read_csv(\"states_all_extended.csv\")\n",
    "\n",
    "school_data.head()"
   ]
  },
  {
   "cell_type": "markdown",
   "id": "3378ab17",
   "metadata": {},
   "source": [
    "Looking at the data, we can see that there are a few columns we will not need. For example PRIMARY_KEY isn't a data point we need to consider when testing our hypothesis so we can get rid of it. We can use the DataFrame method drop and specify the columns we want to drop."
   ]
  },
  {
   "cell_type": "code",
   "execution_count": 3,
   "id": "6803188b",
   "metadata": {},
   "outputs": [],
   "source": [
    "school_data = school_data.drop(columns=['PRIMARY_KEY'])"
   ]
  },
  {
   "cell_type": "markdown",
   "id": "5c84100c",
   "metadata": {},
   "source": [
    "We should get rid of all the rows that have any kind of missing data in them since we do not want to use those data points if anything is missing. The built in method dropna can help us here since it will drop all rows with any value NaN in it."
   ]
  },
  {
   "cell_type": "code",
   "execution_count": 4,
   "id": "bfb85434",
   "metadata": {},
   "outputs": [
    {
     "name": "stdout",
     "output_type": "stream",
     "text": [
      "1714 rows were dropped.\n"
     ]
    }
   ],
   "source": [
    "prev_rows = len(school_data.index)\n",
    "school_data = school_data.dropna()\n",
    "curr_rows = len(school_data.index)\n",
    "\n",
    "print(str(prev_rows - curr_rows) + \" rows were dropped.\")"
   ]
  },
  {
   "cell_type": "markdown",
   "id": "02ea3d99",
   "metadata": {},
   "source": [
    "Since the columns names are a little tricky to figure out, we are going to outline how to read them here. \n",
    "\n",
    "G## - This signifies which grade this value is talking about; for example G04 is referring to grade 4.\n",
    "\n",
    "G##\\_A\\_A - This refers to all the students in that grade from all races.\n",
    "\n",
    "G##\\_x\\_g - This is read as the number of students of race _x_ and gender _g_ in grade ##; for example G06_AS_M is all asian male students in grade 6.\n",
    "\n",
    "G##\\_x\\_g\\_test - This is average _test_ score of race _x_ and gender _g_ in grade ##; for example G06_AS_A_MATH is the average math score of all asian students in grade 6.\n",
    "\n",
    "A in place of a gender or race signifies all genders or all races.\n",
    "\n",
    "The different race codes are AM - American Indian or Alaska Native, AS - Asian, HI - Hispanic/Latino, BL - Black, WH - White, HP - Hawaiian Native/Pacific Islander and TR - two or more races."
   ]
  },
  {
   "cell_type": "markdown",
   "id": "0cf2f8ce",
   "metadata": {},
   "source": [
    "## Part 3: Exploratory Data Analysis"
   ]
  },
  {
   "cell_type": "markdown",
   "id": "9c62260c",
   "metadata": {},
   "source": [
    "## Hypothesis testing"
   ]
  },
  {
   "cell_type": "markdown",
   "id": "0b733658",
   "metadata": {},
   "source": [
    "## Communication of Insights Attained"
   ]
  }
 ],
 "metadata": {
  "kernelspec": {
   "display_name": "Python 3",
   "language": "python",
   "name": "python3"
  },
  "language_info": {
   "codemirror_mode": {
    "name": "ipython",
    "version": 3
   },
   "file_extension": ".py",
   "mimetype": "text/x-python",
   "name": "python",
   "nbconvert_exporter": "python",
   "pygments_lexer": "ipython3",
   "version": "3.8.5"
  }
 },
 "nbformat": 4,
 "nbformat_minor": 5
}
