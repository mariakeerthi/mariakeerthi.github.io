{
 "cells": [
  {
   "cell_type": "markdown",
   "id": "f511d5c9",
   "metadata": {},
   "source": [
    "# Final Project\n",
    "\n",
    "General Plan:\n",
    "- Make regression/model \n",
    "- Feed in time, latitude, longitude to predict weather at that location at that time\n",
    "- Possibly create combination variables to add extra predictors\n",
    "- Plot these weather events on a map "
   ]
  },
  {
   "cell_type": "markdown",
   "id": "ad201971",
   "metadata": {},
   "source": [
    "## Part 0: Import Libraries"
   ]
  },
  {
   "cell_type": "code",
   "execution_count": 1,
   "id": "6f624378",
   "metadata": {},
   "outputs": [],
   "source": [
    "import pandas as pd\n",
    "import numpy as np\n",
    "import matplotlib.pyplot as plt\n",
    "import zipfile "
   ]
  },
  {
   "cell_type": "markdown",
   "id": "a060e444",
   "metadata": {},
   "source": [
    "## Part 1: Data Management/Representation"
   ]
  },
  {
   "cell_type": "code",
   "execution_count": null,
   "id": "e074ad6a",
   "metadata": {},
   "outputs": [],
   "source": [
    "# import the data from csv \n",
    "zipfile.ZipFile('./archive.zip', 'r').extractall('.')\n",
    "weather_data = pd.read_csv('WeatherEvents_Jan2016-Dec2021.csv')\n",
    "\n",
    "# display data\n",
    "weather_data"
   ]
  },
  {
   "cell_type": "markdown",
   "id": "b9f95773",
   "metadata": {},
   "source": [
    "## Exploratory Data Analysis"
   ]
  },
  {
   "cell_type": "markdown",
   "id": "ace2dae9",
   "metadata": {},
   "source": [
    "## Hypothesis testing"
   ]
  },
  {
   "cell_type": "markdown",
   "id": "3e01ca25",
   "metadata": {},
   "source": [
    "## Communication of Insights Attained"
   ]
  }
 ],
 "metadata": {
  "kernelspec": {
   "display_name": "Python 3 (ipykernel)",
   "language": "python",
   "name": "python3"
  },
  "language_info": {
   "codemirror_mode": {
    "name": "ipython",
    "version": 3
   },
   "file_extension": ".py",
   "mimetype": "text/x-python",
   "name": "python",
   "nbconvert_exporter": "python",
   "pygments_lexer": "ipython3",
   "version": "3.9.7"
  }
 },
 "nbformat": 4,
 "nbformat_minor": 5
}
