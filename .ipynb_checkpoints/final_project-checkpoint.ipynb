{
 "cells": [
  {
   "cell_type": "markdown",
   "id": "2105921b",
   "metadata": {},
   "source": [
    "# Final Project\n",
    "\n",
    "General Plan:\n",
    "- Make regression/model \n",
    "- Feed in time, latitude, longitude to predict weather at that location at that time\n",
    "- Possibly create combination variables to add extra predictors\n",
    "- Plot these weather events on a map "
   ]
  },
  {
   "cell_type": "markdown",
   "id": "10464d7d",
   "metadata": {},
   "source": [
    "## Part 0: Import Libraries"
   ]
  },
  {
   "cell_type": "code",
   "execution_count": 2,
   "id": "f8490c12",
   "metadata": {},
   "outputs": [],
   "source": [
    "import pandas as pd\n",
    "import numpy as np\n",
    "import matplotlib.pyplot as plt\n",
    "import zipfile "
   ]
  },
  {
   "cell_type": "markdown",
   "id": "5549df30",
   "metadata": {},
   "source": [
    "## Part 1: Data Management/Representation"
   ]
  },
  {
   "cell_type": "code",
   "execution_count": 3,
   "id": "d9b49bfa",
   "metadata": {},
   "outputs": [],
   "source": [
    "# import the data from csv \n",
    "zipfile.ZipFile('./archive.zip', 'r').extractall('.')\n",
    "#weather_data = pd.read_csv('weather_data.csv')\n",
    "\n",
    "# display data\n",
    "#weather_data"
   ]
  },
  {
   "cell_type": "markdown",
   "id": "93df98c2",
   "metadata": {},
   "source": [
    "## Exploratory Data Analysis"
   ]
  },
  {
   "cell_type": "markdown",
   "id": "7b723791",
   "metadata": {},
   "source": [
    "## Hypothesis testing"
   ]
  },
  {
   "cell_type": "markdown",
   "id": "8e12889b",
   "metadata": {},
   "source": [
    "## Communication of Insights Attained"
   ]
  }
 ],
 "metadata": {
  "kernelspec": {
   "display_name": "Python 3",
   "language": "python",
   "name": "python3"
  },
  "language_info": {
   "codemirror_mode": {
    "name": "ipython",
    "version": 3
   },
   "file_extension": ".py",
   "mimetype": "text/x-python",
   "name": "python",
   "nbconvert_exporter": "python",
   "pygments_lexer": "ipython3",
   "version": "3.8.5"
  }
 },
 "nbformat": 4,
 "nbformat_minor": 5
}
